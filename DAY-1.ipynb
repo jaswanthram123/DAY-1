{
 "cells": [
  {
   "cell_type": "code",
   "execution_count": 3,
   "id": "14b692d5-7c70-4ecc-a6f7-9b1cac3d7e84",
   "metadata": {},
   "outputs": [
    {
     "name": "stdout",
     "output_type": "stream",
     "text": [
      "Integer Variable: 10 - Type: <class 'int'>\n",
      "Float Variable: 20.5 - Type: <class 'float'>\n",
      "String Variable: Hello, Jaswanth! - Type: <class 'str'>\n",
      "Boolean Variable: True - Type: <class 'bool'>\n"
     ]
    }
   ],
   "source": [
    "# Declare variables of different data types\n",
    "integer_var = 10          \n",
    "float_var = 20.5           \n",
    "string_var = \"Hello, Jaswanth!\"  \n",
    "boolean_var = True         \n",
    "\n",
    "\n",
    "print(\"Integer Variable:\", integer_var, \"- Type:\", type(integer_var))\n",
    "print(\"Float Variable:\", float_var, \"- Type:\", type(float_var))\n",
    "print(\"String Variable:\", string_var, \"- Type:\", type(string_var))\n",
    "print(\"Boolean Variable:\", boolean_var, \"- Type:\", type(boolean_var))\n"
   ]
  },
  {
   "cell_type": "code",
   "execution_count": null,
   "id": "1905cf0a-f8d8-411f-8a4d-3800ef0daa0c",
   "metadata": {},
   "outputs": [],
   "source": []
  }
 ],
 "metadata": {
  "kernelspec": {
   "display_name": "Python 3 (ipykernel)",
   "language": "python",
   "name": "python3"
  },
  "language_info": {
   "codemirror_mode": {
    "name": "ipython",
    "version": 3
   },
   "file_extension": ".py",
   "mimetype": "text/x-python",
   "name": "python",
   "nbconvert_exporter": "python",
   "pygments_lexer": "ipython3",
   "version": "3.12.4"
  }
 },
 "nbformat": 4,
 "nbformat_minor": 5
}
